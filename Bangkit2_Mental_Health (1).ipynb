{
 "cells": [
  {
   "cell_type": "code",
   "execution_count": 46,
   "metadata": {
    "id": "a7iTryMNyw5n"
   },
   "outputs": [],
   "source": [
    "import numpy as np\n",
    "import pandas as pd\n",
    "import matplotlib.pyplot as plt\n",
    "import seaborn as sns\n",
    "\n",
    "%matplotlib inline"
   ]
  },
  {
   "cell_type": "code",
   "execution_count": 47,
   "metadata": {
    "id": "TP5GdQQVFtZk"
   },
   "outputs": [],
   "source": [
    "plt.rcParams[\"figure.figsize\"] = (20,12)"
   ]
  },
  {
   "cell_type": "code",
   "execution_count": 48,
   "metadata": {
    "id": "8drvQQQQ8Ns-"
   },
   "outputs": [],
   "source": [
    "import warnings \n",
    "warnings.filterwarnings('ignore')"
   ]
  },
  {
   "cell_type": "code",
   "execution_count": 49,
   "metadata": {
    "id": "4-TjV2EW7F2a"
   },
   "outputs": [],
   "source": [
    "#Load datanya!\n",
    "\n",
    "df = pd.DataFrame(pd.read_csv('survey 2.csv'))"
   ]
  },
  {
   "cell_type": "code",
   "execution_count": 50,
   "metadata": {
    "colab": {
     "base_uri": "https://localhost:8080/",
     "height": 394
    },
    "id": "r-2sIkwa99Jh",
    "outputId": "0bd07739-cc72-4ece-f911-7478ed1dcfd4"
   },
   "outputs": [
    {
     "data": {
      "text/html": [
       "<div>\n",
       "<style scoped>\n",
       "    .dataframe tbody tr th:only-of-type {\n",
       "        vertical-align: middle;\n",
       "    }\n",
       "\n",
       "    .dataframe tbody tr th {\n",
       "        vertical-align: top;\n",
       "    }\n",
       "\n",
       "    .dataframe thead th {\n",
       "        text-align: right;\n",
       "    }\n",
       "</style>\n",
       "<table border=\"1\" class=\"dataframe\">\n",
       "  <thead>\n",
       "    <tr style=\"text-align: right;\">\n",
       "      <th></th>\n",
       "      <th>Timestamp</th>\n",
       "      <th>Age</th>\n",
       "      <th>Gender</th>\n",
       "      <th>Country</th>\n",
       "      <th>state</th>\n",
       "      <th>self_employed</th>\n",
       "      <th>family_history</th>\n",
       "      <th>treatment</th>\n",
       "      <th>work_interfere</th>\n",
       "      <th>no_employees</th>\n",
       "      <th>...</th>\n",
       "      <th>leave</th>\n",
       "      <th>mental_health_consequence</th>\n",
       "      <th>phys_health_consequence</th>\n",
       "      <th>coworkers</th>\n",
       "      <th>supervisor</th>\n",
       "      <th>mental_health_interview</th>\n",
       "      <th>phys_health_interview</th>\n",
       "      <th>mental_vs_physical</th>\n",
       "      <th>obs_consequence</th>\n",
       "      <th>comments</th>\n",
       "    </tr>\n",
       "  </thead>\n",
       "  <tbody>\n",
       "    <tr>\n",
       "      <th>0</th>\n",
       "      <td>2014-08-27 11:29:31</td>\n",
       "      <td>37</td>\n",
       "      <td>Female</td>\n",
       "      <td>United States</td>\n",
       "      <td>IL</td>\n",
       "      <td>NaN</td>\n",
       "      <td>No</td>\n",
       "      <td>Yes</td>\n",
       "      <td>Often</td>\n",
       "      <td>6-25</td>\n",
       "      <td>...</td>\n",
       "      <td>Somewhat easy</td>\n",
       "      <td>No</td>\n",
       "      <td>No</td>\n",
       "      <td>Some of them</td>\n",
       "      <td>Yes</td>\n",
       "      <td>No</td>\n",
       "      <td>Maybe</td>\n",
       "      <td>Yes</td>\n",
       "      <td>No</td>\n",
       "      <td>NaN</td>\n",
       "    </tr>\n",
       "    <tr>\n",
       "      <th>1</th>\n",
       "      <td>2014-08-27 11:29:37</td>\n",
       "      <td>44</td>\n",
       "      <td>M</td>\n",
       "      <td>United States</td>\n",
       "      <td>IN</td>\n",
       "      <td>NaN</td>\n",
       "      <td>No</td>\n",
       "      <td>No</td>\n",
       "      <td>Rarely</td>\n",
       "      <td>More than 1000</td>\n",
       "      <td>...</td>\n",
       "      <td>Don't know</td>\n",
       "      <td>Maybe</td>\n",
       "      <td>No</td>\n",
       "      <td>No</td>\n",
       "      <td>No</td>\n",
       "      <td>No</td>\n",
       "      <td>No</td>\n",
       "      <td>Don't know</td>\n",
       "      <td>No</td>\n",
       "      <td>NaN</td>\n",
       "    </tr>\n",
       "    <tr>\n",
       "      <th>2</th>\n",
       "      <td>2014-08-27 11:29:44</td>\n",
       "      <td>32</td>\n",
       "      <td>Male</td>\n",
       "      <td>Canada</td>\n",
       "      <td>NaN</td>\n",
       "      <td>NaN</td>\n",
       "      <td>No</td>\n",
       "      <td>No</td>\n",
       "      <td>Rarely</td>\n",
       "      <td>6-25</td>\n",
       "      <td>...</td>\n",
       "      <td>Somewhat difficult</td>\n",
       "      <td>No</td>\n",
       "      <td>No</td>\n",
       "      <td>Yes</td>\n",
       "      <td>Yes</td>\n",
       "      <td>Yes</td>\n",
       "      <td>Yes</td>\n",
       "      <td>No</td>\n",
       "      <td>No</td>\n",
       "      <td>NaN</td>\n",
       "    </tr>\n",
       "    <tr>\n",
       "      <th>3</th>\n",
       "      <td>2014-08-27 11:29:46</td>\n",
       "      <td>31</td>\n",
       "      <td>Male</td>\n",
       "      <td>United Kingdom</td>\n",
       "      <td>NaN</td>\n",
       "      <td>NaN</td>\n",
       "      <td>Yes</td>\n",
       "      <td>Yes</td>\n",
       "      <td>Often</td>\n",
       "      <td>26-100</td>\n",
       "      <td>...</td>\n",
       "      <td>Somewhat difficult</td>\n",
       "      <td>Yes</td>\n",
       "      <td>Yes</td>\n",
       "      <td>Some of them</td>\n",
       "      <td>No</td>\n",
       "      <td>Maybe</td>\n",
       "      <td>Maybe</td>\n",
       "      <td>No</td>\n",
       "      <td>Yes</td>\n",
       "      <td>NaN</td>\n",
       "    </tr>\n",
       "    <tr>\n",
       "      <th>4</th>\n",
       "      <td>2014-08-27 11:30:22</td>\n",
       "      <td>31</td>\n",
       "      <td>Male</td>\n",
       "      <td>United States</td>\n",
       "      <td>TX</td>\n",
       "      <td>NaN</td>\n",
       "      <td>No</td>\n",
       "      <td>No</td>\n",
       "      <td>Never</td>\n",
       "      <td>100-500</td>\n",
       "      <td>...</td>\n",
       "      <td>Don't know</td>\n",
       "      <td>No</td>\n",
       "      <td>No</td>\n",
       "      <td>Some of them</td>\n",
       "      <td>Yes</td>\n",
       "      <td>Yes</td>\n",
       "      <td>Yes</td>\n",
       "      <td>Don't know</td>\n",
       "      <td>No</td>\n",
       "      <td>NaN</td>\n",
       "    </tr>\n",
       "  </tbody>\n",
       "</table>\n",
       "<p>5 rows × 27 columns</p>\n",
       "</div>"
      ],
      "text/plain": [
       "             Timestamp  Age  Gender         Country state self_employed  \\\n",
       "0  2014-08-27 11:29:31   37  Female   United States    IL           NaN   \n",
       "1  2014-08-27 11:29:37   44       M   United States    IN           NaN   \n",
       "2  2014-08-27 11:29:44   32    Male          Canada   NaN           NaN   \n",
       "3  2014-08-27 11:29:46   31    Male  United Kingdom   NaN           NaN   \n",
       "4  2014-08-27 11:30:22   31    Male   United States    TX           NaN   \n",
       "\n",
       "  family_history treatment work_interfere    no_employees  ...  \\\n",
       "0             No       Yes          Often            6-25  ...   \n",
       "1             No        No         Rarely  More than 1000  ...   \n",
       "2             No        No         Rarely            6-25  ...   \n",
       "3            Yes       Yes          Often          26-100  ...   \n",
       "4             No        No          Never         100-500  ...   \n",
       "\n",
       "                leave mental_health_consequence phys_health_consequence  \\\n",
       "0       Somewhat easy                        No                      No   \n",
       "1          Don't know                     Maybe                      No   \n",
       "2  Somewhat difficult                        No                      No   \n",
       "3  Somewhat difficult                       Yes                     Yes   \n",
       "4          Don't know                        No                      No   \n",
       "\n",
       "      coworkers supervisor mental_health_interview phys_health_interview  \\\n",
       "0  Some of them        Yes                      No                 Maybe   \n",
       "1            No         No                      No                    No   \n",
       "2           Yes        Yes                     Yes                   Yes   \n",
       "3  Some of them         No                   Maybe                 Maybe   \n",
       "4  Some of them        Yes                     Yes                   Yes   \n",
       "\n",
       "  mental_vs_physical obs_consequence comments  \n",
       "0                Yes              No      NaN  \n",
       "1         Don't know              No      NaN  \n",
       "2                 No              No      NaN  \n",
       "3                 No             Yes      NaN  \n",
       "4         Don't know              No      NaN  \n",
       "\n",
       "[5 rows x 27 columns]"
      ]
     },
     "execution_count": 50,
     "metadata": {},
     "output_type": "execute_result"
    }
   ],
   "source": [
    "#Lihat dataset nya!\n",
    "\n",
    "df.head(5)"
   ]
  },
  {
   "cell_type": "code",
   "execution_count": 51,
   "metadata": {
    "colab": {
     "base_uri": "https://localhost:8080/"
    },
    "id": "bACxtsNH-Nss",
    "outputId": "0ebfdb60-ffe4-4452-bc93-b6acb29b285a"
   },
   "outputs": [
    {
     "name": "stdout",
     "output_type": "stream",
     "text": [
      "<class 'pandas.core.frame.DataFrame'>\n",
      "RangeIndex: 1259 entries, 0 to 1258\n",
      "Data columns (total 27 columns):\n",
      " #   Column                     Non-Null Count  Dtype \n",
      "---  ------                     --------------  ----- \n",
      " 0   Timestamp                  1259 non-null   object\n",
      " 1   Age                        1259 non-null   int64 \n",
      " 2   Gender                     1259 non-null   object\n",
      " 3   Country                    1259 non-null   object\n",
      " 4   state                      744 non-null    object\n",
      " 5   self_employed              1241 non-null   object\n",
      " 6   family_history             1259 non-null   object\n",
      " 7   treatment                  1259 non-null   object\n",
      " 8   work_interfere             995 non-null    object\n",
      " 9   no_employees               1259 non-null   object\n",
      " 10  remote_work                1259 non-null   object\n",
      " 11  tech_company               1259 non-null   object\n",
      " 12  benefits                   1259 non-null   object\n",
      " 13  care_options               1259 non-null   object\n",
      " 14  wellness_program           1259 non-null   object\n",
      " 15  seek_help                  1259 non-null   object\n",
      " 16  anonymity                  1259 non-null   object\n",
      " 17  leave                      1259 non-null   object\n",
      " 18  mental_health_consequence  1259 non-null   object\n",
      " 19  phys_health_consequence    1259 non-null   object\n",
      " 20  coworkers                  1259 non-null   object\n",
      " 21  supervisor                 1259 non-null   object\n",
      " 22  mental_health_interview    1259 non-null   object\n",
      " 23  phys_health_interview      1259 non-null   object\n",
      " 24  mental_vs_physical         1259 non-null   object\n",
      " 25  obs_consequence            1259 non-null   object\n",
      " 26  comments                   164 non-null    object\n",
      "dtypes: int64(1), object(26)\n",
      "memory usage: 265.7+ KB\n"
     ]
    }
   ],
   "source": [
    "#Struktur dataset!\n",
    "\n",
    "df.info()"
   ]
  },
  {
   "cell_type": "code",
   "execution_count": 52,
   "metadata": {
    "colab": {
     "base_uri": "https://localhost:8080/"
    },
    "id": "w01gzomsB0b4",
    "outputId": "52ce4d4c-8616-4390-eb6e-b096c9030c72"
   },
   "outputs": [
    {
     "data": {
      "text/plain": [
       "(1259, 27)"
      ]
     },
     "execution_count": 52,
     "metadata": {},
     "output_type": "execute_result"
    }
   ],
   "source": [
    "df.shape"
   ]
  },
  {
   "cell_type": "code",
   "execution_count": 53,
   "metadata": {
    "colab": {
     "base_uri": "https://localhost:8080/",
     "height": 359
    },
    "id": "OmIV3Qj7-bRe",
    "outputId": "6eab8bbc-8939-43ed-f5b2-d1966fe50dfa"
   },
   "outputs": [
    {
     "data": {
      "text/html": [
       "<div>\n",
       "<style scoped>\n",
       "    .dataframe tbody tr th:only-of-type {\n",
       "        vertical-align: middle;\n",
       "    }\n",
       "\n",
       "    .dataframe tbody tr th {\n",
       "        vertical-align: top;\n",
       "    }\n",
       "\n",
       "    .dataframe thead th {\n",
       "        text-align: right;\n",
       "    }\n",
       "</style>\n",
       "<table border=\"1\" class=\"dataframe\">\n",
       "  <thead>\n",
       "    <tr style=\"text-align: right;\">\n",
       "      <th></th>\n",
       "      <th>Total Missing Values</th>\n",
       "      <th>Total Non Missing Values</th>\n",
       "      <th>Persentase Missing Values</th>\n",
       "    </tr>\n",
       "  </thead>\n",
       "  <tbody>\n",
       "    <tr>\n",
       "      <th>comments</th>\n",
       "      <td>1095</td>\n",
       "      <td>164</td>\n",
       "      <td>86.973789</td>\n",
       "    </tr>\n",
       "    <tr>\n",
       "      <th>state</th>\n",
       "      <td>515</td>\n",
       "      <td>744</td>\n",
       "      <td>40.905481</td>\n",
       "    </tr>\n",
       "    <tr>\n",
       "      <th>work_interfere</th>\n",
       "      <td>264</td>\n",
       "      <td>995</td>\n",
       "      <td>20.969023</td>\n",
       "    </tr>\n",
       "    <tr>\n",
       "      <th>self_employed</th>\n",
       "      <td>18</td>\n",
       "      <td>1241</td>\n",
       "      <td>1.429706</td>\n",
       "    </tr>\n",
       "    <tr>\n",
       "      <th>benefits</th>\n",
       "      <td>0</td>\n",
       "      <td>1259</td>\n",
       "      <td>0.000000</td>\n",
       "    </tr>\n",
       "    <tr>\n",
       "      <th>Age</th>\n",
       "      <td>0</td>\n",
       "      <td>1259</td>\n",
       "      <td>0.000000</td>\n",
       "    </tr>\n",
       "    <tr>\n",
       "      <th>Gender</th>\n",
       "      <td>0</td>\n",
       "      <td>1259</td>\n",
       "      <td>0.000000</td>\n",
       "    </tr>\n",
       "    <tr>\n",
       "      <th>Country</th>\n",
       "      <td>0</td>\n",
       "      <td>1259</td>\n",
       "      <td>0.000000</td>\n",
       "    </tr>\n",
       "    <tr>\n",
       "      <th>family_history</th>\n",
       "      <td>0</td>\n",
       "      <td>1259</td>\n",
       "      <td>0.000000</td>\n",
       "    </tr>\n",
       "    <tr>\n",
       "      <th>treatment</th>\n",
       "      <td>0</td>\n",
       "      <td>1259</td>\n",
       "      <td>0.000000</td>\n",
       "    </tr>\n",
       "  </tbody>\n",
       "</table>\n",
       "</div>"
      ],
      "text/plain": [
       "                Total Missing Values  Total Non Missing Values  \\\n",
       "comments                        1095                       164   \n",
       "state                            515                       744   \n",
       "work_interfere                   264                       995   \n",
       "self_employed                     18                      1241   \n",
       "benefits                           0                      1259   \n",
       "Age                                0                      1259   \n",
       "Gender                             0                      1259   \n",
       "Country                            0                      1259   \n",
       "family_history                     0                      1259   \n",
       "treatment                          0                      1259   \n",
       "\n",
       "                Persentase Missing Values  \n",
       "comments                        86.973789  \n",
       "state                           40.905481  \n",
       "work_interfere                  20.969023  \n",
       "self_employed                    1.429706  \n",
       "benefits                         0.000000  \n",
       "Age                              0.000000  \n",
       "Gender                           0.000000  \n",
       "Country                          0.000000  \n",
       "family_history                   0.000000  \n",
       "treatment                        0.000000  "
      ]
     },
     "execution_count": 53,
     "metadata": {},
     "output_type": "execute_result"
    }
   ],
   "source": [
    "#Persentase missing value\n",
    "\n",
    "total_missing = df.isnull().sum().sort_values(ascending = False)\n",
    "total_non_missing = df.count().sort_values(ascending = False)\n",
    "percent_missing = total_missing/(total_non_missing+total_missing)*100\n",
    "df_missing = pd.concat([total_missing, total_non_missing, percent_missing], axis = 1, keys = ['Total Missing Values',\n",
    "                                                                                                                        'Total Non Missing Values',\n",
    "                                                                                                                        'Persentase Missing Values'])\n",
    "df_missing.head(10)"
   ]
  },
  {
   "cell_type": "code",
   "execution_count": 54,
   "metadata": {
    "colab": {
     "base_uri": "https://localhost:8080/"
    },
    "id": "mJI94Mdh_F4j",
    "outputId": "d3a40b2f-b120-4ec7-ef93-2a7e6b2198c8"
   },
   "outputs": [
    {
     "data": {
      "text/plain": [
       "Index(['Timestamp', 'Age', 'Gender', 'Country', 'state', 'self_employed',\n",
       "       'family_history', 'treatment', 'work_interfere', 'no_employees',\n",
       "       'remote_work', 'tech_company', 'benefits', 'care_options',\n",
       "       'wellness_program', 'seek_help', 'anonymity', 'leave',\n",
       "       'mental_health_consequence', 'phys_health_consequence', 'coworkers',\n",
       "       'supervisor', 'mental_health_interview', 'phys_health_interview',\n",
       "       'mental_vs_physical', 'obs_consequence'],\n",
       "      dtype='object')"
      ]
     },
     "execution_count": 54,
     "metadata": {},
     "output_type": "execute_result"
    }
   ],
   "source": [
    "#Hapus kolom yang memiliki persentase missing values >= 70%\n",
    "\n",
    "df.drop('comments', axis=1, inplace=True)\n",
    "df.columns"
   ]
  },
  {
   "cell_type": "code",
   "execution_count": 55,
   "metadata": {
    "id": "NeX5icj9_Tc_"
   },
   "outputs": [],
   "source": [
    "#Pisah data ke kelompok tipe data numerik dan object!\n",
    "\n",
    "tipe_object = ['Timestamp', 'Gender', 'Country', 'state', 'self_employed',\n",
    "       'family_history', 'treatment', 'work_interfere', 'no_employees',\n",
    "       'remote_work', 'tech_company', 'benefits', 'care_options',\n",
    "       'wellness_program', 'seek_help', 'anonymity', 'leave',\n",
    "       'mental_health_consequence', 'phys_health_consequence', 'coworkers',\n",
    "       'supervisor', 'mental_health_interview', 'phys_health_interview',\n",
    "       'mental_vs_physical', 'obs_consequence']\n",
    "\n",
    "tipe_numerik = ['Age']"
   ]
  },
  {
   "cell_type": "code",
   "execution_count": 56,
   "metadata": {
    "colab": {
     "base_uri": "https://localhost:8080/",
     "height": 80
    },
    "id": "9rzQdTx2De4u",
    "outputId": "527ca70c-d504-4c63-c9ae-1d1a3c4c1e23"
   },
   "outputs": [
    {
     "data": {
      "text/html": [
       "<div>\n",
       "<style scoped>\n",
       "    .dataframe tbody tr th:only-of-type {\n",
       "        vertical-align: middle;\n",
       "    }\n",
       "\n",
       "    .dataframe tbody tr th {\n",
       "        vertical-align: top;\n",
       "    }\n",
       "\n",
       "    .dataframe thead th {\n",
       "        text-align: right;\n",
       "    }\n",
       "</style>\n",
       "<table border=\"1\" class=\"dataframe\">\n",
       "  <thead>\n",
       "    <tr style=\"text-align: right;\">\n",
       "      <th></th>\n",
       "      <th>count</th>\n",
       "      <th>mean</th>\n",
       "      <th>std</th>\n",
       "      <th>min</th>\n",
       "      <th>25%</th>\n",
       "      <th>50%</th>\n",
       "      <th>75%</th>\n",
       "      <th>max</th>\n",
       "    </tr>\n",
       "  </thead>\n",
       "  <tbody>\n",
       "    <tr>\n",
       "      <th>Age</th>\n",
       "      <td>1259.0</td>\n",
       "      <td>7.942815e+07</td>\n",
       "      <td>2.818299e+09</td>\n",
       "      <td>-1726.0</td>\n",
       "      <td>27.0</td>\n",
       "      <td>31.0</td>\n",
       "      <td>36.0</td>\n",
       "      <td>1.000000e+11</td>\n",
       "    </tr>\n",
       "  </tbody>\n",
       "</table>\n",
       "</div>"
      ],
      "text/plain": [
       "      count          mean           std     min   25%   50%   75%  \\\n",
       "Age  1259.0  7.942815e+07  2.818299e+09 -1726.0  27.0  31.0  36.0   \n",
       "\n",
       "              max  \n",
       "Age  1.000000e+11  "
      ]
     },
     "execution_count": 56,
     "metadata": {},
     "output_type": "execute_result"
    }
   ],
   "source": [
    "#Statistik sederhana untuk kelompok numerik!\n",
    "\n",
    "df[tipe_numerik].describe().transpose()"
   ]
  },
  {
   "cell_type": "code",
   "execution_count": 57,
   "metadata": {
    "colab": {
     "base_uri": "https://localhost:8080/",
     "height": 824
    },
    "id": "yl1iLrxiDl5y",
    "outputId": "2f726895-edb3-47ef-fbc6-f27bd4dc53be"
   },
   "outputs": [
    {
     "data": {
      "text/html": [
       "<div>\n",
       "<style scoped>\n",
       "    .dataframe tbody tr th:only-of-type {\n",
       "        vertical-align: middle;\n",
       "    }\n",
       "\n",
       "    .dataframe tbody tr th {\n",
       "        vertical-align: top;\n",
       "    }\n",
       "\n",
       "    .dataframe thead th {\n",
       "        text-align: right;\n",
       "    }\n",
       "</style>\n",
       "<table border=\"1\" class=\"dataframe\">\n",
       "  <thead>\n",
       "    <tr style=\"text-align: right;\">\n",
       "      <th></th>\n",
       "      <th>count</th>\n",
       "      <th>unique</th>\n",
       "      <th>top</th>\n",
       "      <th>freq</th>\n",
       "    </tr>\n",
       "  </thead>\n",
       "  <tbody>\n",
       "    <tr>\n",
       "      <th>Timestamp</th>\n",
       "      <td>1259</td>\n",
       "      <td>1246</td>\n",
       "      <td>2014-08-27 15:23:51</td>\n",
       "      <td>2</td>\n",
       "    </tr>\n",
       "    <tr>\n",
       "      <th>Gender</th>\n",
       "      <td>1259</td>\n",
       "      <td>49</td>\n",
       "      <td>Male</td>\n",
       "      <td>615</td>\n",
       "    </tr>\n",
       "    <tr>\n",
       "      <th>Country</th>\n",
       "      <td>1259</td>\n",
       "      <td>48</td>\n",
       "      <td>United States</td>\n",
       "      <td>751</td>\n",
       "    </tr>\n",
       "    <tr>\n",
       "      <th>state</th>\n",
       "      <td>744</td>\n",
       "      <td>45</td>\n",
       "      <td>CA</td>\n",
       "      <td>138</td>\n",
       "    </tr>\n",
       "    <tr>\n",
       "      <th>self_employed</th>\n",
       "      <td>1241</td>\n",
       "      <td>2</td>\n",
       "      <td>No</td>\n",
       "      <td>1095</td>\n",
       "    </tr>\n",
       "    <tr>\n",
       "      <th>family_history</th>\n",
       "      <td>1259</td>\n",
       "      <td>2</td>\n",
       "      <td>No</td>\n",
       "      <td>767</td>\n",
       "    </tr>\n",
       "    <tr>\n",
       "      <th>treatment</th>\n",
       "      <td>1259</td>\n",
       "      <td>2</td>\n",
       "      <td>Yes</td>\n",
       "      <td>637</td>\n",
       "    </tr>\n",
       "    <tr>\n",
       "      <th>work_interfere</th>\n",
       "      <td>995</td>\n",
       "      <td>4</td>\n",
       "      <td>Sometimes</td>\n",
       "      <td>465</td>\n",
       "    </tr>\n",
       "    <tr>\n",
       "      <th>no_employees</th>\n",
       "      <td>1259</td>\n",
       "      <td>6</td>\n",
       "      <td>6-25</td>\n",
       "      <td>290</td>\n",
       "    </tr>\n",
       "    <tr>\n",
       "      <th>remote_work</th>\n",
       "      <td>1259</td>\n",
       "      <td>2</td>\n",
       "      <td>No</td>\n",
       "      <td>883</td>\n",
       "    </tr>\n",
       "    <tr>\n",
       "      <th>tech_company</th>\n",
       "      <td>1259</td>\n",
       "      <td>2</td>\n",
       "      <td>Yes</td>\n",
       "      <td>1031</td>\n",
       "    </tr>\n",
       "    <tr>\n",
       "      <th>benefits</th>\n",
       "      <td>1259</td>\n",
       "      <td>3</td>\n",
       "      <td>Yes</td>\n",
       "      <td>477</td>\n",
       "    </tr>\n",
       "    <tr>\n",
       "      <th>care_options</th>\n",
       "      <td>1259</td>\n",
       "      <td>3</td>\n",
       "      <td>No</td>\n",
       "      <td>501</td>\n",
       "    </tr>\n",
       "    <tr>\n",
       "      <th>wellness_program</th>\n",
       "      <td>1259</td>\n",
       "      <td>3</td>\n",
       "      <td>No</td>\n",
       "      <td>842</td>\n",
       "    </tr>\n",
       "    <tr>\n",
       "      <th>seek_help</th>\n",
       "      <td>1259</td>\n",
       "      <td>3</td>\n",
       "      <td>No</td>\n",
       "      <td>646</td>\n",
       "    </tr>\n",
       "    <tr>\n",
       "      <th>anonymity</th>\n",
       "      <td>1259</td>\n",
       "      <td>3</td>\n",
       "      <td>Don't know</td>\n",
       "      <td>819</td>\n",
       "    </tr>\n",
       "    <tr>\n",
       "      <th>leave</th>\n",
       "      <td>1259</td>\n",
       "      <td>5</td>\n",
       "      <td>Don't know</td>\n",
       "      <td>563</td>\n",
       "    </tr>\n",
       "    <tr>\n",
       "      <th>mental_health_consequence</th>\n",
       "      <td>1259</td>\n",
       "      <td>3</td>\n",
       "      <td>No</td>\n",
       "      <td>490</td>\n",
       "    </tr>\n",
       "    <tr>\n",
       "      <th>phys_health_consequence</th>\n",
       "      <td>1259</td>\n",
       "      <td>3</td>\n",
       "      <td>No</td>\n",
       "      <td>925</td>\n",
       "    </tr>\n",
       "    <tr>\n",
       "      <th>coworkers</th>\n",
       "      <td>1259</td>\n",
       "      <td>3</td>\n",
       "      <td>Some of them</td>\n",
       "      <td>774</td>\n",
       "    </tr>\n",
       "    <tr>\n",
       "      <th>supervisor</th>\n",
       "      <td>1259</td>\n",
       "      <td>3</td>\n",
       "      <td>Yes</td>\n",
       "      <td>516</td>\n",
       "    </tr>\n",
       "    <tr>\n",
       "      <th>mental_health_interview</th>\n",
       "      <td>1259</td>\n",
       "      <td>3</td>\n",
       "      <td>No</td>\n",
       "      <td>1008</td>\n",
       "    </tr>\n",
       "    <tr>\n",
       "      <th>phys_health_interview</th>\n",
       "      <td>1259</td>\n",
       "      <td>3</td>\n",
       "      <td>Maybe</td>\n",
       "      <td>557</td>\n",
       "    </tr>\n",
       "    <tr>\n",
       "      <th>mental_vs_physical</th>\n",
       "      <td>1259</td>\n",
       "      <td>3</td>\n",
       "      <td>Don't know</td>\n",
       "      <td>576</td>\n",
       "    </tr>\n",
       "    <tr>\n",
       "      <th>obs_consequence</th>\n",
       "      <td>1259</td>\n",
       "      <td>2</td>\n",
       "      <td>No</td>\n",
       "      <td>1075</td>\n",
       "    </tr>\n",
       "  </tbody>\n",
       "</table>\n",
       "</div>"
      ],
      "text/plain": [
       "                          count unique                  top  freq\n",
       "Timestamp                  1259   1246  2014-08-27 15:23:51     2\n",
       "Gender                     1259     49                 Male   615\n",
       "Country                    1259     48        United States   751\n",
       "state                       744     45                   CA   138\n",
       "self_employed              1241      2                   No  1095\n",
       "family_history             1259      2                   No   767\n",
       "treatment                  1259      2                  Yes   637\n",
       "work_interfere              995      4            Sometimes   465\n",
       "no_employees               1259      6                 6-25   290\n",
       "remote_work                1259      2                   No   883\n",
       "tech_company               1259      2                  Yes  1031\n",
       "benefits                   1259      3                  Yes   477\n",
       "care_options               1259      3                   No   501\n",
       "wellness_program           1259      3                   No   842\n",
       "seek_help                  1259      3                   No   646\n",
       "anonymity                  1259      3           Don't know   819\n",
       "leave                      1259      5           Don't know   563\n",
       "mental_health_consequence  1259      3                   No   490\n",
       "phys_health_consequence    1259      3                   No   925\n",
       "coworkers                  1259      3         Some of them   774\n",
       "supervisor                 1259      3                  Yes   516\n",
       "mental_health_interview    1259      3                   No  1008\n",
       "phys_health_interview      1259      3                Maybe   557\n",
       "mental_vs_physical         1259      3           Don't know   576\n",
       "obs_consequence            1259      2                   No  1075"
      ]
     },
     "execution_count": 57,
     "metadata": {},
     "output_type": "execute_result"
    }
   ],
   "source": [
    "#Statistik sederhana untuk kelompok object!\n",
    "\n",
    "df[tipe_object].describe().transpose()"
   ]
  },
  {
   "cell_type": "markdown",
   "metadata": {
    "id": "TB7DqWhlEiCG"
   },
   "source": [
    "## **Imputasi Missing Values**"
   ]
  },
  {
   "cell_type": "code",
   "execution_count": 58,
   "metadata": {
    "colab": {
     "base_uri": "https://localhost:8080/",
     "height": 732
    },
    "id": "XBcCnUfMEq0K",
    "outputId": "d8b88a59-750e-4fc2-e5f9-d6d557df28a9"
   },
   "outputs": [
    {
     "data": {
      "image/png": "[encoded data removed]",
      "text/plain": [
       "<Figure size 1440x864 with 1 Axes>"
      ]
     },
     "metadata": {
      "needs_background": "light"
     },
     "output_type": "display_data"
    }
   ],
   "source": [
    "#Visualisasi Kolom 'state'\n",
    "\n",
    "sns.countplot(df['state'])\n",
    "plt.title(\"Count Plot fitur state!\", fontsize=15)\n",
    "\n",
    "plt.show()"
   ]
  },
  {
   "cell_type": "code",
   "execution_count": 59,
   "metadata": {
    "id": "WeEw2gqpD3Ew"
   },
   "outputs": [],
   "source": [
    "# Imputasi Missing Values kolom 'state'\n",
    "\n",
    "df['state'].fillna(df['state'].mode()[0], inplace = True)"
   ]
  },
  {
   "cell_type": "code",
   "execution_count": 60,
   "metadata": {
    "colab": {
     "base_uri": "https://localhost:8080/",
     "height": 627
    },
    "id": "IIdNXcvMIZFB",
    "outputId": "9eb31649-ea42-4c59-c213-feea7d598840"
   },
   "outputs": [
    {
     "data": {
      "image/png": "[encoded data removed]",
      "text/plain": [
       "<Figure size 1080x720 with 2 Axes>"
      ]
     },
     "metadata": {
      "needs_background": "light"
     },
     "output_type": "display_data"
    }
   ],
   "source": [
    "#Visualisasi Kolom 'work_interfere'\n",
    "\n",
    "plt.subplot(1, 2, 1)\n",
    "sns.countplot(df['work_interfere'])\n",
    "plt.title(\"Count Plot fitur state!\", fontsize=20)\n",
    "\n",
    "plt.subplot(1, 2, 2)\n",
    "pie_chart = df['work_interfere'].value_counts()\n",
    "pie_chart.plot.pie(autopct = '%1.1f%%', figsize = (15,10))\n",
    "\n",
    "plt.title('Persentase pada fitur state', fontsize = 20)\n",
    "\n",
    "plt.show()"
   ]
  },
  {
   "cell_type": "code",
   "execution_count": 61,
   "metadata": {
    "id": "lVDhaYiZKr9i"
   },
   "outputs": [],
   "source": [
    "# Imputasi Missing Values kolom 'work_interfere'\n",
    "\n",
    "df['work_interfere'].fillna(df['work_interfere'].mode()[0], inplace = True)"
   ]
  },
  {
   "cell_type": "code",
   "execution_count": 62,
   "metadata": {
    "colab": {
     "base_uri": "https://localhost:8080/",
     "height": 627
    },
    "id": "uQQ9skNCK2Ep",
    "outputId": "0b8b6630-4d23-4322-9ac3-117ce1a5b5c9"
   },
   "outputs": [
    {
     "data": {
      "image/png": "[encoded data removed]",
      "text/plain": [
       "<Figure size 1080x720 with 2 Axes>"
      ]
     },
     "metadata": {
      "needs_background": "light"
     },
     "output_type": "display_data"
    }
   ],
   "source": [
    "#Visualisasi Kolom 'self_employed'\n",
    "\n",
    "plt.subplot(1, 2, 1)\n",
    "sns.countplot(df['self_employed'])\n",
    "plt.title(\"Count Plot fitur self_employed!\", fontsize=20)\n",
    "\n",
    "plt.subplot(1, 2, 2)\n",
    "pie_chart = df['self_employed'].value_counts()\n",
    "pie_chart.plot.pie(autopct = '%1.1f%%', figsize = (15,10))\n",
    "\n",
    "plt.title('Persentase pada fitur self_employed', fontsize = 20)\n",
    "\n",
    "plt.show()"
   ]
  },
  {
   "cell_type": "code",
   "execution_count": 63,
   "metadata": {
    "id": "b3HFW1csNel1"
   },
   "outputs": [],
   "source": [
    "# Imputasi Missing Values kolom 'work_interfere'\n",
    "\n",
    "df['self_employed'].fillna(df['self_employed'].mode()[0], inplace = True)"
   ]
  },
  {
   "cell_type": "code",
   "execution_count": 64,
   "metadata": {
    "colab": {
     "base_uri": "https://localhost:8080/"
    },
    "id": "w2Wc9w4xNlGq",
    "outputId": "d0a0e06a-0e38-476e-db12-bebd66ef477a"
   },
   "outputs": [
    {
     "data": {
      "text/plain": [
       "Timestamp                    0\n",
       "Age                          0\n",
       "Gender                       0\n",
       "Country                      0\n",
       "state                        0\n",
       "self_employed                0\n",
       "family_history               0\n",
       "treatment                    0\n",
       "work_interfere               0\n",
       "no_employees                 0\n",
       "remote_work                  0\n",
       "tech_company                 0\n",
       "benefits                     0\n",
       "care_options                 0\n",
       "wellness_program             0\n",
       "seek_help                    0\n",
       "anonymity                    0\n",
       "leave                        0\n",
       "mental_health_consequence    0\n",
       "phys_health_consequence      0\n",
       "coworkers                    0\n",
       "supervisor                   0\n",
       "mental_health_interview      0\n",
       "phys_health_interview        0\n",
       "mental_vs_physical           0\n",
       "obs_consequence              0\n",
       "dtype: int64"
      ]
     },
     "execution_count": 64,
     "metadata": {},
     "output_type": "execute_result"
    }
   ],
   "source": [
    "# Cek missing values pada data\n",
    "\n",
    "df.isnull().sum()"
   ]
  },
  {
   "cell_type": "markdown",
   "metadata": {
    "id": "uwJ18-KfZfLq"
   },
   "source": [
    "## **Data Preprocessing**"
   ]
  },
  {
   "cell_type": "code",
   "execution_count": 65,
   "metadata": {
    "colab": {
     "base_uri": "https://localhost:8080/"
    },
    "id": "s-4ANxNkZsXr",
    "outputId": "17320b46-8bbd-46a0-962f-1aa376df4b98"
   },
   "outputs": [
    {
     "data": {
      "text/plain": [
       "Male                                              615\n",
       "male                                              206\n",
       "Female                                            121\n",
       "M                                                 116\n",
       "female                                             62\n",
       "F                                                  38\n",
       "m                                                  34\n",
       "f                                                  15\n",
       "Make                                                4\n",
       "Male                                                3\n",
       "Woman                                               3\n",
       "Man                                                 2\n",
       "Female (trans)                                      2\n",
       "Female                                              2\n",
       "Cis Male                                            2\n",
       "Male (CIS)                                          1\n",
       "Malr                                                1\n",
       "Cis Man                                             1\n",
       "ostensibly male, unsure what that really means      1\n",
       "Agender                                             1\n",
       "non-binary                                          1\n",
       "Mal                                                 1\n",
       "Femake                                              1\n",
       "Cis Female                                          1\n",
       "Female (cis)                                        1\n",
       "cis-female/femme                                    1\n",
       "cis male                                            1\n",
       "Mail                                                1\n",
       "something kinda male?                               1\n",
       "p                                                   1\n",
       "Neuter                                              1\n",
       "male leaning androgynous                            1\n",
       "maile                                               1\n",
       "Nah                                                 1\n",
       "Genderqueer                                         1\n",
       "fluid                                               1\n",
       "Male-ish                                            1\n",
       "queer/she/they                                      1\n",
       "Trans woman                                         1\n",
       "woman                                               1\n",
       "Trans-female                                        1\n",
       "Androgyne                                           1\n",
       "All                                                 1\n",
       "Guy (-ish) ^_^                                      1\n",
       "queer                                               1\n",
       "femail                                              1\n",
       "A little about you                                  1\n",
       "Enby                                                1\n",
       "msle                                                1\n",
       "Name: Gender, dtype: int64"
      ]
     },
     "execution_count": 65,
     "metadata": {},
     "output_type": "execute_result"
    }
   ],
   "source": [
    "#Perhatikan bahwa nilai unik pada fitur Gender berjumlah 49 (Harusnya ada 3, laki-laki, perempuan, atau kategori lainnya)\n",
    "\n",
    "df['Gender'].value_counts()"
   ]
  },
  {
   "cell_type": "code",
   "execution_count": 66,
   "metadata": {
    "colab": {
     "base_uri": "https://localhost:8080/"
    },
    "id": "QNGMN2sUgRPn",
    "outputId": "04355dab-f8af-4870-9b23-8468b42bf2ef"
   },
   "outputs": [
    {
     "data": {
      "text/plain": [
       "array(['Female', 'M', 'Male', 'male', 'female', 'm', 'Male-ish', 'maile',\n",
       "       'Trans-female', 'Cis Female', 'F', 'something kinda male?',\n",
       "       'Cis Male', 'Woman', 'f', 'Mal', 'Male (CIS)', 'queer/she/they',\n",
       "       'non-binary', 'Femake', 'woman', 'Make', 'Nah', 'All', 'Enby',\n",
       "       'fluid', 'Genderqueer', 'Female ', 'Androgyne', 'Agender',\n",
       "       'cis-female/femme', 'Guy (-ish) ^_^', 'male leaning androgynous',\n",
       "       'Male ', 'Man', 'Trans woman', 'msle', 'Neuter', 'Female (trans)',\n",
       "       'queer', 'Female (cis)', 'Mail', 'cis male', 'A little about you',\n",
       "       'Malr', 'p', 'femail', 'Cis Man',\n",
       "       'ostensibly male, unsure what that really means'], dtype=object)"
      ]
     },
     "execution_count": 66,
     "metadata": {},
     "output_type": "execute_result"
    }
   ],
   "source": [
    "df['Gender'].unique()"
   ]
  },
  {
   "cell_type": "code",
   "execution_count": 67,
   "metadata": {
    "id": "rimL9ct6mqNX"
   },
   "outputs": [],
   "source": [
    "#Jadikan 3 Gender saja\n",
    "\n",
    "df['Gender'].replace(['M', 'Male', 'male', 'm', 'Male-ish', 'maile',\n",
    "       'something kinda male?', 'Cis Male', 'Mal', 'Male (CIS)', 'Make','Guy (-ish) ^_^', \n",
    "       'Male ', 'Man', 'msle', 'Mail', 'cis male', 'Malr', 'Cis Man'], 'Male', inplace = True)\n",
    "\n",
    "df['Gender'].replace(['Female', 'female', 'Cis Female', 'F', \n",
    "       'Woman', 'f', 'queer/she/they','non-binary', 'Femake', 'woman', 'Genderqueer', 'Female ', \n",
    "       'cis-female/femme', 'Female (cis)', 'femail'], 'Female', inplace = True)\n",
    "\n",
    "df['Gender'].replace(['Trans-female', 'non-binary','Nah', 'All', 'Enby', 'fluid', 'Genderqueer',  'Androgyne', 'Agender',\n",
    "       'male leaning androgynous', 'Trans woman', 'Neuter', 'Female (trans)','queer','A little about you','p',  'ostensibly male, unsure what that really means'],\n",
    "       'other_categories', inplace = True)"
   ]
  },
  {
   "cell_type": "code",
   "execution_count": 68,
   "metadata": {
    "colab": {
     "base_uri": "https://localhost:8080/"
    },
    "id": "IZ3gJ6oecaMn",
    "outputId": "3badaab8-8222-42bf-fa4e-170f04507fad"
   },
   "outputs": [
    {
     "data": {
      "text/plain": [
       "Male                993\n",
       "Female              250\n",
       "other_categories     16\n",
       "Name: Gender, dtype: int64"
      ]
     },
     "execution_count": 68,
     "metadata": {},
     "output_type": "execute_result"
    }
   ],
   "source": [
    "df['Gender'].value_counts()"
   ]
  },
  {
   "cell_type": "code",
   "execution_count": 69,
   "metadata": {
    "colab": {
     "base_uri": "https://localhost:8080/"
    },
    "id": "VfDqXFIfetVA",
    "outputId": "1d713f5c-7acb-44e7-9636-3cf898de8eff"
   },
   "outputs": [
    {
     "data": {
      "text/plain": [
       "count    1259.000000\n",
       "mean       32.015091\n",
       "std         7.360613\n",
       "min         5.000000\n",
       "25%        27.000000\n",
       "50%        31.000000\n",
       "75%        36.000000\n",
       "max        72.000000\n",
       "Name: Age, dtype: float64"
      ]
     },
     "execution_count": 69,
     "metadata": {},
     "output_type": "execute_result"
    }
   ],
   "source": [
    "# Perhatikan bahwa nilai fitur Age atau umur ada yang negatif dan ada yang lebih besar dari 100 (bahkan 1000 an)\n",
    "# Ganti nilai2 aneh tsb dengan median\n",
    "\n",
    "df['Age'] = df[(df['Age'] >= 0) & (df['Age'] <= 100)]['Age']\n",
    "df['Age'].fillna(df['Age'].median(), inplace = True)\n",
    "\n",
    "df['Age'].describe()"
   ]
  },
  {
   "cell_type": "code",
   "execution_count": null,
   "metadata": {
    "id": "pCSY7OYnKewh"
   },
   "outputs": [],
   "source": []
  },
  {
   "cell_type": "code",
   "execution_count": 70,
   "metadata": {
    "id": "Vkee3FrBBGoW"
   },
   "outputs": [],
   "source": [
    "#Hapus kolom Timestamp yang sekiranya kurang berguna\n",
    "\n",
    "df.drop('Timestamp', axis = 1, inplace = True)"
   ]
  },
  {
   "cell_type": "markdown",
   "metadata": {
    "id": "UBuFuiQlAgKF"
   },
   "source": [
    "## **Modelling**"
   ]
  },
  {
   "cell_type": "code",
   "execution_count": 71,
   "metadata": {
    "colab": {
     "base_uri": "https://localhost:8080/"
    },
    "id": "t7Ed53HpCmZH",
    "outputId": "65ade5cb-5604-4ef7-8558-09ff76a63fe7"
   },
   "outputs": [
    {
     "data": {
      "text/plain": [
       "Yes    637\n",
       "No     622\n",
       "Name: treatment, dtype: int64"
      ]
     },
     "execution_count": 71,
     "metadata": {},
     "output_type": "execute_result"
    }
   ],
   "source": [
    "df['treatment'].value_counts()"
   ]
  },
  {
   "cell_type": "code",
   "execution_count": 72,
   "metadata": {
    "colab": {
     "base_uri": "https://localhost:8080/"
    },
    "id": "L37IOxnEBtQ9",
    "outputId": "684bca4a-9c03-4142-d761-b14a061b5c6b"
   },
   "outputs": [
    {
     "data": {
      "text/plain": [
       "(1259, 159)"
      ]
     },
     "execution_count": 72,
     "metadata": {},
     "output_type": "execute_result"
    }
   ],
   "source": [
    "#Ubah variabel kategorik ke numerik!\n",
    "\n",
    "df['treatment'].replace('Yes', 1, inplace = True)\n",
    "df['treatment'].replace('No', 0, inplace = True)\n",
    "\n",
    "df = pd.get_dummies(df)\n",
    "df.shape"
   ]
  },
  {
   "cell_type": "code",
   "execution_count": 73,
   "metadata": {
    "colab": {
     "base_uri": "https://localhost:8080/",
     "height": 627
    },
    "id": "Bc6Nv4nTAjYa",
    "outputId": "094c216e-800a-4fbc-c0db-319458f0e3ec"
   },
   "outputs": [
    {
     "data": {
      "image/png": "[encoded data removed]",
      "text/plain": [
       "<Figure size 1080x720 with 2 Axes>"
      ]
     },
     "metadata": {
      "needs_background": "light"
     },
     "output_type": "display_data"
    }
   ],
   "source": [
    "#Visualisasi variabel target 'treatment'\n",
    "\n",
    "plt.subplot(1, 2, 1)\n",
    "sns.countplot(df['treatment'])\n",
    "plt.title(\"Count Plot fitur treatment!\", fontsize=20)\n",
    "\n",
    "plt.subplot(1, 2, 2)\n",
    "pie_chart = df['treatment'].value_counts()\n",
    "pie_chart.plot.pie(autopct = '%1.1f%%', figsize = (15,10))\n",
    "\n",
    "plt.title('Persentase pada fitur treatment', fontsize = 20)\n",
    "\n",
    "plt.show()"
   ]
  },
  {
   "cell_type": "code",
   "execution_count": 74,
   "metadata": {
    "id": "Pw5pO5II_cDp"
   },
   "outputs": [],
   "source": [
    "# Pisah dataset menjadi variabel2 prediktor dan variabel target\n",
    "\n",
    "X = df.drop('treatment', axis = 1)\n",
    "y = df['treatment']"
   ]
  },
  {
   "cell_type": "code",
   "execution_count": 75,
   "metadata": {
    "colab": {
     "base_uri": "https://localhost:8080/"
    },
    "id": "nKHMiscC_93Z",
    "outputId": "b0142bfe-838d-4da7-c916-23e21d410390"
   },
   "outputs": [
    {
     "data": {
      "text/plain": [
       "(1259, 158)"
      ]
     },
     "execution_count": 75,
     "metadata": {},
     "output_type": "execute_result"
    }
   ],
   "source": [
    "X.shape"
   ]
  },
  {
   "cell_type": "code",
   "execution_count": 76,
   "metadata": {
    "colab": {
     "base_uri": "https://localhost:8080/"
    },
    "id": "vU8Lq8BCACuj",
    "outputId": "30fd6a1e-f29f-49b9-bb74-452f4814c62a"
   },
   "outputs": [
    {
     "data": {
      "text/plain": [
       "(1259,)"
      ]
     },
     "execution_count": 76,
     "metadata": {},
     "output_type": "execute_result"
    }
   ],
   "source": [
    "y.shape"
   ]
  },
  {
   "cell_type": "code",
   "execution_count": 77,
   "metadata": {
    "id": "AxhAn26cAD2E"
   },
   "outputs": [],
   "source": [
    "# Train test split\n",
    "from sklearn.model_selection import train_test_split\n",
    "\n",
    "X_train, X_test, y_train, y_test = train_test_split(X, y, stratify = y, test_size = 0.2, random_state = 42)"
   ]
  },
  {
   "cell_type": "code",
   "execution_count": 78,
   "metadata": {
    "id": "y2fD3YgpK3jX"
   },
   "outputs": [],
   "source": [
    "from sklearn.metrics import accuracy_score"
   ]
  },
  {
   "cell_type": "code",
   "execution_count": 79,
   "metadata": {},
   "outputs": [],
   "source": [
    "from sklearn.metrics import classification_report\n",
    "from sklearn.metrics import accuracy_score\n",
    "from sklearn.metrics import classification_report\n",
    "from sklearn.metrics import accuracy_score\n",
    "from sklearn.metrics import roc_auc_score\n",
    "from sklearn.model_selection import GridSearchCV"
   ]
  },
  {
   "cell_type": "code",
   "execution_count": 80,
   "metadata": {
    "colab": {
     "base_uri": "https://localhost:8080/"
    },
    "id": "1jTtzdrgAVpP",
    "outputId": "df8dbc9a-9f90-41ff-aa8a-cebc681e1c2d"
   },
   "outputs": [
    {
     "name": "stdout",
     "output_type": "stream",
     "text": [
      "              precision    recall  f1-score   support\n",
      "\n",
      "           0       0.73      0.80      0.76       124\n",
      "           1       0.78      0.71      0.75       128\n",
      "\n",
      "    accuracy                           0.75       252\n",
      "   macro avg       0.76      0.75      0.75       252\n",
      "weighted avg       0.76      0.75      0.75       252\n",
      "\n"
     ]
    }
   ],
   "source": [
    "#Logistic Regression\n",
    "from sklearn.linear_model import LogisticRegression\n",
    "logreg = LogisticRegression(max_iter=1000, solver=\"sag\")\n",
    "logreg.fit(X_train, y_train)\n",
    "\n",
    "y_pred_logreg = logreg.predict(X_test)\n",
    "print(classification_report(y_test, y_pred_logreg))"
   ]
  },
  {
   "cell_type": "code",
   "execution_count": 81,
   "metadata": {},
   "outputs": [
    {
     "name": "stdout",
     "output_type": "stream",
     "text": [
      "0.7546622983870968\n"
     ]
    }
   ],
   "source": [
    "#Skor ROC-AUC Model Gradient Boosting (Setelah Hyperparameter Tuning)\n",
    "\n",
    "print(roc_auc_score(y_test, y_pred))"
   ]
  },
  {
   "cell_type": "code",
   "execution_count": 82,
   "metadata": {},
   "outputs": [
    {
     "name": "stdout",
     "output_type": "stream",
     "text": [
      "              precision    recall  f1-score   support\n",
      "\n",
      "           0       0.65      0.77      0.70       124\n",
      "           1       0.72      0.59      0.65       128\n",
      "\n",
      "    accuracy                           0.68       252\n",
      "   macro avg       0.69      0.68      0.68       252\n",
      "weighted avg       0.69      0.68      0.68       252\n",
      "\n"
     ]
    }
   ],
   "source": [
    "#Decision Tree Classifier\n",
    "from sklearn.tree import DecisionTreeClassifier\n",
    "dec_tree = DecisionTreeClassifier(criterion=\"gini\", max_depth=8)\n",
    "dec_tree.fit(X_train, y_train)\n",
    "\n",
    "y_pred_dectree = dec_tree.predict(X_test)\n",
    "print(classification_report(y_test, y_pred_dectree))"
   ]
  },
  {
   "cell_type": "code",
   "execution_count": 83,
   "metadata": {},
   "outputs": [
    {
     "name": "stdout",
     "output_type": "stream",
     "text": [
      "0.7546622983870968\n"
     ]
    }
   ],
   "source": [
    "#Skor ROC-AUC Model Gradient Boosting (Setelah Hyperparameter Tuning)\n",
    "\n",
    "print(roc_auc_score(y_test, y_pred))"
   ]
  },
  {
   "cell_type": "code",
   "execution_count": 84,
   "metadata": {},
   "outputs": [
    {
     "name": "stdout",
     "output_type": "stream",
     "text": [
      "              precision    recall  f1-score   support\n",
      "\n",
      "           0       0.70      0.77      0.73       124\n",
      "           1       0.75      0.69      0.72       128\n",
      "\n",
      "    accuracy                           0.73       252\n",
      "   macro avg       0.73      0.73      0.73       252\n",
      "weighted avg       0.73      0.73      0.73       252\n",
      "\n"
     ]
    }
   ],
   "source": [
    "#Random Forest Classifier\n",
    "from sklearn.ensemble import RandomForestClassifier\n",
    "r_forest=RandomForestClassifier(max_depth=22, warm_start=True)\n",
    "r_forest.fit(X_train,y_train)\n",
    "\n",
    "y_pred_forest = r_forest.predict(X_test)\n",
    "print(classification_report(y_test, y_pred_forest))"
   ]
  },
  {
   "cell_type": "code",
   "execution_count": 85,
   "metadata": {},
   "outputs": [
    {
     "name": "stdout",
     "output_type": "stream",
     "text": [
      "0.7546622983870968\n"
     ]
    }
   ],
   "source": [
    "#Skor ROC-AUC Model Gradient Boosting (Setelah Hyperparameter Tuning)\n",
    "\n",
    "print(roc_auc_score(y_test, y_pred))"
   ]
  },
  {
   "cell_type": "code",
   "execution_count": 86,
   "metadata": {},
   "outputs": [
    {
     "name": "stdout",
     "output_type": "stream",
     "text": [
      "              precision    recall  f1-score   support\n",
      "\n",
      "           0       0.70      0.79      0.74       124\n",
      "           1       0.77      0.67      0.72       128\n",
      "\n",
      "    accuracy                           0.73       252\n",
      "   macro avg       0.73      0.73      0.73       252\n",
      "weighted avg       0.73      0.73      0.73       252\n",
      "\n"
     ]
    }
   ],
   "source": [
    "#Gradient Boosting Classifier\n",
    "from sklearn.ensemble import GradientBoostingClassifier\n",
    "gboost=GradientBoostingClassifier(learning_rate=0.2)\n",
    "gboost.fit(X_train, y_train)\n",
    "\n",
    "y_pred_gboost = gboost.predict(X_test)\n",
    "print(classification_report(y_test, y_pred_gboost))"
   ]
  },
  {
   "cell_type": "code",
   "execution_count": 87,
   "metadata": {},
   "outputs": [
    {
     "name": "stdout",
     "output_type": "stream",
     "text": [
      "0.7546622983870968\n"
     ]
    }
   ],
   "source": [
    "#Skor ROC-AUC Model Gradient Boosting (Setelah Hyperparameter Tuning)\n",
    "\n",
    "print(roc_auc_score(y_test, y_pred))"
   ]
  },
  {
   "cell_type": "code",
   "execution_count": 88,
   "metadata": {},
   "outputs": [
    {
     "name": "stdout",
     "output_type": "stream",
     "text": [
      "Best Penalty: l2\n",
      "Best C: 0.08858667904100823\n",
      "              precision    recall  f1-score   support\n",
      "\n",
      "           0       0.73      0.78      0.75       124\n",
      "           1       0.77      0.72      0.74       128\n",
      "\n",
      "    accuracy                           0.75       252\n",
      "   macro avg       0.75      0.75      0.75       252\n",
      "weighted avg       0.75      0.75      0.75       252\n",
      "\n"
     ]
    }
   ],
   "source": [
    "#Logistic Regression dengan Hyperparameter Tuning\n",
    "\n",
    "hyperparameters = dict(penalty=['l1', 'l2', 'elasticnet'], C=np.logspace(-4,4,20))\n",
    "clf = GridSearchCV(logreg, hyperparameters, cv=5)\n",
    "\n",
    "#Fitting Model\n",
    "logreg_best_model = clf.fit(X_train,y_train)\n",
    "\n",
    "#Print hyperparameters terbaik\n",
    "print('Best Penalty:', logreg_best_model.best_estimator_.get_params()['penalty'])\n",
    "print('Best C:', logreg_best_model.best_estimator_.get_params()['C'])\n",
    "\n",
    "#Prediksi dengan model hasil parameter tuning\n",
    "y_pred = logreg_best_model.predict(X_test)\n",
    "\n",
    "print(classification_report(y_test, y_pred))"
   ]
  },
  {
   "cell_type": "code",
   "execution_count": 89,
   "metadata": {},
   "outputs": [
    {
     "name": "stdout",
     "output_type": "stream",
     "text": [
      "0.7505040322580645\n"
     ]
    }
   ],
   "source": [
    "#Skor ROC-AUC Model Gradient Boosting (Setelah Hyperparameter Tuning)\n",
    "\n",
    "print(roc_auc_score(y_test, y_pred))"
   ]
  },
  {
   "cell_type": "code",
   "execution_count": 90,
   "metadata": {},
   "outputs": [
    {
     "name": "stdout",
     "output_type": "stream",
     "text": [
      "Best Hyperparameters: {'ccp_alpha': 0.0, 'class_weight': None, 'criterion': 'entropy', 'max_depth': 3, 'max_features': None, 'max_leaf_nodes': None, 'min_impurity_decrease': 0.0, 'min_impurity_split': None, 'min_samples_leaf': 1, 'min_samples_split': 3, 'min_weight_fraction_leaf': 0.0, 'presort': 'deprecated', 'random_state': None, 'splitter': 'best'}\n",
      "              precision    recall  f1-score   support\n",
      "\n",
      "           0       0.71      0.79      0.75       124\n",
      "           1       0.77      0.69      0.73       128\n",
      "\n",
      "    accuracy                           0.74       252\n",
      "   macro avg       0.74      0.74      0.74       252\n",
      "weighted avg       0.74      0.74      0.74       252\n",
      "\n"
     ]
    }
   ],
   "source": [
    "#Decision Tree dengan Hyperparameter Tuning\n",
    "\n",
    "dectree_params = {\n",
    "    'criterion' : ['gini', 'entropy'],\n",
    "    'max_depth' : range(1,10),\n",
    "    'min_samples_split' : range(1,5),\n",
    "    'min_samples_leaf' : range(1,5)\n",
    "}\n",
    "\n",
    "clf = GridSearchCV(dec_tree, dectree_params, cv=5)\n",
    "\n",
    "#Fitting Model\n",
    "dectree_best_model = clf.fit(X_train,y_train)\n",
    "\n",
    "#Print hyperparameters terbaik\n",
    "print('Best Hyperparameters:', dectree_best_model.best_estimator_.get_params())\n",
    "\n",
    "#Prediksi dengan model hasil parameter tuning\n",
    "y_pred = dectree_best_model.predict(X_test)\n",
    "\n",
    "print(classification_report(y_test, y_pred))"
   ]
  },
  {
   "cell_type": "code",
   "execution_count": 91,
   "metadata": {},
   "outputs": [
    {
     "name": "stdout",
     "output_type": "stream",
     "text": [
      "0.7389112903225805\n"
     ]
    }
   ],
   "source": [
    "#Skor ROC-AUC Model Gradient Boosting (Setelah Hyperparameter Tuning)\n",
    "\n",
    "print(roc_auc_score(y_test, y_pred))"
   ]
  },
  {
   "cell_type": "code",
   "execution_count": 92,
   "metadata": {},
   "outputs": [
    {
     "name": "stdout",
     "output_type": "stream",
     "text": [
      "Best Hyperparameters: {'ccp_alpha': 0.0, 'criterion': 'friedman_mse', 'init': None, 'learning_rate': 0.1, 'loss': 'deviance', 'max_depth': 6, 'max_features': 'log2', 'max_leaf_nodes': None, 'min_impurity_decrease': 0.0, 'min_impurity_split': None, 'min_samples_leaf': 20, 'min_samples_split': 2, 'min_weight_fraction_leaf': 0.0, 'n_estimators': 100, 'n_iter_no_change': None, 'presort': 'deprecated', 'random_state': None, 'subsample': 1.0, 'tol': 0.0001, 'validation_fraction': 0.1, 'verbose': 0, 'warm_start': False}\n",
      "              precision    recall  f1-score   support\n",
      "\n",
      "           0       0.73      0.81      0.77       124\n",
      "           1       0.80      0.70      0.75       128\n",
      "\n",
      "    accuracy                           0.76       252\n",
      "   macro avg       0.76      0.76      0.76       252\n",
      "weighted avg       0.76      0.76      0.76       252\n",
      "\n"
     ]
    }
   ],
   "source": [
    "#Gradient Boosting Classifier dengan Hyperparameter Tuning\n",
    "\n",
    "gb_params = {\n",
    "              'learning_rate': [0.05, 0.1, 0.2, 0.3],\n",
    "              'max_depth': [4, 6, 8],\n",
    "              'min_samples_leaf': [20, 50,100,150],\n",
    "              'max_features': ['auto', 'sqrt', 'log2', 'None'] \n",
    "              }\n",
    "\n",
    "clf = GridSearchCV(gboost, gb_params, cv=5)\n",
    "\n",
    "#Fitting Model\n",
    "gboost_best_model = clf.fit(X_train,y_train)\n",
    "\n",
    "#Print hyperparameters terbaik\n",
    "print('Best Hyperparameters:', gboost_best_model.best_estimator_.get_params())\n",
    "\n",
    "#Prediksi dengan model hasil parameter tuning\n",
    "y_pred = gboost_best_model.predict(X_test)\n",
    "\n",
    "print(classification_report(y_test, y_pred))"
   ]
  },
  {
   "cell_type": "code",
   "execution_count": 93,
   "metadata": {},
   "outputs": [
    {
     "name": "stdout",
     "output_type": "stream",
     "text": [
      "0.758820564516129\n"
     ]
    }
   ],
   "source": [
    "#Skor ROC-AUC Model Gradient Boosting (Setelah Hyperparameter Tuning)\n",
    "\n",
    "print(roc_auc_score(y_test, y_pred))"
   ]
  },
  {
   "cell_type": "code",
   "execution_count": 94,
   "metadata": {},
   "outputs": [],
   "source": [
    "import simplejson as json"
   ]
  },
  {
   "cell_type": "code",
   "execution_count": 96,
   "metadata": {},
   "outputs": [],
   "source": [
    "class MyLogReg(LogisticRegression):\n",
    "\n",
    "    # Override the class constructor\n",
    "    def __init__(self, C=0.08858667904100823, solver='liblinear', max_iter=100, X_train=None, Y_train=None):\n",
    "        LogisticRegression.__init__(self, C=C, solver=solver, max_iter=max_iter)\n",
    "        self.X_train = X_train\n",
    "        self.Y_train = y_train\n",
    "\n",
    "    # A method for saving object data to JSON file\n",
    "    def save_json(self, filepath):\n",
    "        dict_ = {}\n",
    "        dict_['C'] = self.C\n",
    "        dict_['max_iter'] = self.max_iter\n",
    "        dict_['solver'] = self.solver\n",
    "        dict_['X_train'] = self.X_train.values.tolist() if self.X_train is not None else 'None'\n",
    "        dict_['Y_train'] = self.Y_train.values.tolist() if self.Y_train is not None else 'None'\n",
    "\n",
    "        # Creat json and save to file\n",
    "        json_txt = json.dumps(dict_, indent=4)\n",
    "        with open(filepath, 'w') as file:\n",
    "            file.write(json_txt)\n",
    "\n",
    "    # A method for loading data from JSON file\n",
    "    def load_json(self, filepath):\n",
    "        with open(filepath, 'r') as file:\n",
    "            dict_ = json.load(file)\n",
    "\n",
    "        self.C = dict_['C']\n",
    "        self.max_iter = dict_['max_iter']\n",
    "        self.solver = dict_['solver']\n",
    "        self.X_train = np.asarray(dict_['X_train']) if dict_['X_train'] != 'None' else None\n",
    "        self.Y_train = np.asarray(dict_['Y_train']) if dict_['Y_train'] != 'None' else None"
   ]
  },
  {
   "cell_type": "code",
   "execution_count": 97,
   "metadata": {},
   "outputs": [
    {
     "data": {
      "text/plain": [
       "MyLogReg(X_train=array([[32.,  0.,  1., ...,  0.,  1.,  0.],\n",
       "       [48.,  0.,  1., ...,  1.,  0.,  1.],\n",
       "       [33.,  1.,  0., ...,  1.,  1.,  0.],\n",
       "       ...,\n",
       "       [33.,  0.,  1., ...,  1.,  1.,  0.],\n",
       "       [36.,  0.,  1., ...,  1.,  1.,  0.],\n",
       "       [34.,  0.,  1., ...,  1.,  1.,  0.]]),\n",
       "         Y_train=array([0, 1, 0, ..., 1, 0, 0]))"
      ]
     },
     "execution_count": 97,
     "metadata": {},
     "output_type": "execute_result"
    }
   ],
   "source": [
    "filepath = \"LOGREG_BANGKIT.json\"\n",
    "\n",
    "# Create a model and train it\n",
    "mylogreg = MyLogReg(X_train=X_train, Y_train=y_train)  \n",
    "mylogreg.save_json(filepath)\n",
    "\n",
    "# Create a new object and load its data from JSON file\n",
    "json_mylogreg = MyLogReg()  \n",
    "json_mylogreg.load_json(filepath)  \n",
    "json_mylogreg"
   ]
  },
  {
   "cell_type": "code",
   "execution_count": null,
   "metadata": {},
   "outputs": [],
   "source": []
  }
 ],
 "metadata": {
  "colab": {
   "name": "Bangkit2_Mental Health.ipynb",
   "provenance": []
  },
  "kernelspec": {
   "display_name": "Python 3",
   "language": "python",
   "name": "python3"
  },
  "language_info": {
   "codemirror_mode": {
    "name": "ipython",
    "version": 3
   },
   "file_extension": ".py",
   "mimetype": "text/x-python",
   "name": "python",
   "nbconvert_exporter": "python",
   "pygments_lexer": "ipython3",
   "version": "3.7.4"
  }
 },
 "nbformat": 4,
 "nbformat_minor": 1
}
